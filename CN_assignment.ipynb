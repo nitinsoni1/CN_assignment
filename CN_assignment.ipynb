{
 "cells": [
  {
   "cell_type": "markdown",
   "id": "86d2f3e2",
   "metadata": {},
   "source": [
    "## Import libraries"
   ]
  },
  {
   "cell_type": "code",
   "execution_count": 1,
   "id": "eb1905d3",
   "metadata": {},
   "outputs": [],
   "source": [
    "import re\n",
    "import math"
   ]
  },
  {
   "cell_type": "markdown",
   "id": "757444cb",
   "metadata": {},
   "source": [
    "## Replaces contractions and punctations"
   ]
  },
  {
   "cell_type": "code",
   "execution_count": 2,
   "id": "f61718d2",
   "metadata": {},
   "outputs": [],
   "source": [
    "def replace_contractions(document):\n",
    "    \n",
    "    # Dictionary of common contractions and punctuations\n",
    "    contractions = {\n",
    "                    \"won\\'t\": \"will not\",\n",
    "                    \"can\\'t\": \"can not\",\n",
    "                    \"n\\'t\": \" not\",\n",
    "                    \"\\'re\": \" are\",\n",
    "                    \"\\'s\": \" is\",\n",
    "                    \"\\'d\": \" would\",\n",
    "                    \"\\'ll\": \" will\",\n",
    "                    \"\\'t\": \" not\",\n",
    "                    \"\\'ve\": \" have\",\n",
    "                    \"\\'m\": \" am\",\n",
    "                    \"[^\\w\\s]\":''\n",
    "    }\n",
    "    \n",
    "    # Replaces contractions and punctuations in document\n",
    "    for item in contractions.keys():\n",
    "        document = re.sub(item, contractions[item], document)\n",
    "    \n",
    "    return document"
   ]
  },
  {
   "cell_type": "markdown",
   "id": "282a8778",
   "metadata": {},
   "source": [
    "## Standardizes phrase and splits it into individual words."
   ]
  },
  {
   "cell_type": "code",
   "execution_count": 3,
   "id": "2a0428d3",
   "metadata": {},
   "outputs": [],
   "source": [
    "def word_extraction(document):\n",
    "    \n",
    "    # Remove leading and trailing spaces\n",
    "    document = document.strip()\n",
    "    \n",
    "    # Remove uppercase\n",
    "    document = document.lower()\n",
    "    \n",
    "    # Replace contractions and punctuations\n",
    "    document = replace_contractions(document)\n",
    "    \n",
    "    # Separate into individual words\n",
    "    document = document.split()\n",
    "    \n",
    "    return document\n"
   ]
  },
  {
   "cell_type": "markdown",
   "id": "ef65e3d3",
   "metadata": {},
   "source": [
    "## Creates a dictionary of every unique word and the respective word count."
   ]
  },
  {
   "cell_type": "code",
   "execution_count": 4,
   "id": "fde3041d",
   "metadata": {},
   "outputs": [],
   "source": [
    "def countOccurence(words):\n",
    "    # Create an empty dictionary \n",
    "    d = dict() \n",
    "\n",
    "    # Iterate over each word in line \n",
    "    for word in words: \n",
    "        # Check if the word is already in dictionary \n",
    "        if word in d: \n",
    "            # Increment count of word by 1 \n",
    "            d[word] = d[word] + 1\n",
    "        else: \n",
    "            # Add the word to dictionary with count 1 \n",
    "            d[word] = 1\n",
    "    return d\n"
   ]
  },
  {
   "cell_type": "markdown",
   "id": "d880d933",
   "metadata": {},
   "source": [
    "## Calculates the cosine angle between two vectors"
   ]
  },
  {
   "cell_type": "code",
   "execution_count": 5,
   "id": "b0f8d290",
   "metadata": {},
   "outputs": [],
   "source": [
    "def cosine_similarity(d1, d2):\n",
    "    \n",
    "    # Creates a combined set of all the unique words in the document\n",
    "    terms = set(d1).union(d2)\n",
    "    \n",
    "    # Calculates the dot product of document 1 vector and document 2 vector\n",
    "    dot = sum(d1.get(k, 0) * d2.get(k, 0) for k in terms)\n",
    "    \n",
    "    # Calculates the magnitude of document 1 vector\n",
    "    mag1 = math.sqrt(sum(d1.get(k, 0)**2 for k in terms))\n",
    "    \n",
    "    # Calculates the magnitude of document 2 vector\n",
    "    mag2 = math.sqrt(sum(d2.get(k, 0)**2 for k in terms))\n",
    "    \n",
    "    # Calculates the cosine similarity by dividing the dot product by the product of the magnitudes of the vectors\n",
    "    cosineSimilarity = dot / (mag1 * mag2)\n",
    "    \n",
    "    return cosineSimilarity\n"
   ]
  },
  {
   "cell_type": "code",
   "execution_count": 6,
   "id": "1451e009",
   "metadata": {},
   "outputs": [
    {
     "name": "stdout",
     "output_type": "stream",
     "text": [
      "Enter the first document: the person wear red T-shirt\n",
      "Enter the second document: the boy wear red T-shirt\n",
      "\n",
      "The similarity of these two documents is: 0.8\n"
     ]
    }
   ],
   "source": [
    "def main():\n",
    "    \n",
    "    # Asks for first document as an input.\n",
    "    while True:\n",
    "        try:\n",
    "            doc1 = input(\"Enter the first document: \")\n",
    "            doc1 = str(doc1)\n",
    "        except:\n",
    "            print(\"\\nInvalid input\\n\")\n",
    "            continue\n",
    "        # Checks if input string is empty\n",
    "        if not doc1:\n",
    "            print(\"\\nPlease enter a valid input\")\n",
    "        else:\n",
    "            break\n",
    "              # Asks for second document as an input.\n",
    "    while True:\n",
    "        try:\n",
    "            doc2 = input(\"Enter the second document: \") \n",
    "            doc2 = str(doc2)\n",
    "        except:\n",
    "            print(\"\\nInvalid input\\n\")\n",
    "            continue\n",
    "        # Checks if input string is empty\n",
    "        if not doc2:\n",
    "            print(\"\\nPlease enter a valid input\")\n",
    "        else:\n",
    "            break\n",
    "            \n",
    "            \n",
    "    #Convert to individual words\n",
    "    doc1 = word_extraction(doc1)\n",
    "    doc2 = word_extraction(doc2)\n",
    "    \n",
    "    \n",
    "    # Create word count dictionary\n",
    "    d1 = countOccurence(doc1)\n",
    "    d2 = countOccurence(doc2)\n",
    "    \n",
    "     # Calculate the similarity of the documents rounded to two decimal places\n",
    "    similarity = round(cosine_similarity(d1, d2), 2)\n",
    "    \n",
    "    # Display the similarity of the two documents\n",
    "    print(\"\\nThe similarity of these two documents is: \" + str(similarity))\n",
    "\n",
    "\n",
    "main()"
   ]
  },
  {
   "cell_type": "code",
   "execution_count": null,
   "id": "7bae0383",
   "metadata": {},
   "outputs": [],
   "source": []
  }
 ],
 "metadata": {
  "kernelspec": {
   "display_name": "Python 3 (ipykernel)",
   "language": "python",
   "name": "python3"
  },
  "language_info": {
   "codemirror_mode": {
    "name": "ipython",
    "version": 3
   },
   "file_extension": ".py",
   "mimetype": "text/x-python",
   "name": "python",
   "nbconvert_exporter": "python",
   "pygments_lexer": "ipython3",
   "version": "3.9.7"
  }
 },
 "nbformat": 4,
 "nbformat_minor": 5
}
